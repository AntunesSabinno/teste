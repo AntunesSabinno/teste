{
 "cells": [
  {
   "cell_type": "code",
   "execution_count": 2,
   "id": "dc669771",
   "metadata": {},
   "outputs": [
    {
     "name": "stdout",
     "output_type": "stream",
     "text": [
      "Título da página: Futebol - UOL Esporte\n",
      "Parágrafo 1: Na tarde deste sábado, a Seleção Brasileira masculina de vôlei conheceu seu adversário nas quartas de final dos...\n",
      "Parágrafo 2: O São Paulo já vendeu 55 mil ingressos para o confronto deste sábado, contra o Flamengo, às 21h30 (de Brasília),...\n",
      "Parágrafo 3: O técnico Ramón Díaz não poderá contar com os atacantes Yuri Alberto e Romero no duelo contra o Juventude, marcado \n",
      "Parágrafo 4: O sábado foi de novidade no Fluminense. O Tricolor Carioca anunciou a contratação do uruguaio Facundo Bernal, de...\n",
      "Parágrafo 5: Os EUA venceram a seleção de Porto Rico por 104 a 83, neste sábado, e fecharam sua participação na fase de grupos...\n",
      "Parágrafo 6: Ana Sátila e Pepê Gonçalves entraram em ação neste sábado nas primeiras eliminatórias do caiaque cross nos Jogos...\n"
     ]
    }
   ],
   "source": [
    "import requests\n",
    "from bs4 import BeautifulSoup\n",
    "\n",
    "# URL do site que queremos fazer o scraping\n",
    "url = 'https://www.uol.com.br/esporte/futebol/'\n",
    "\n",
    "# Fazendo a requisição para o site\n",
    "response = requests.get(url)\n",
    "\n",
    "# Verificando se a requisição foi bem sucedida (status code 200)\n",
    "\n",
    "if response.status_code == 200:\n",
    "    \n",
    "    # Criando um objeto BeautifulSoup e passando o conteúdo da página\n",
    "    soup = BeautifulSoup(response.text, 'html.parser')\n",
    "\n",
    "    # Extraindo o título da página\n",
    "    title = soup.title.string\n",
    "    print(f'Título da página: {title}')\n",
    "\n",
    "    # Extraindo todos os parágrafos (tags <p>)\n",
    "    paragraphs = soup.find_all('p')\n",
    "    for i, p in enumerate(paragraphs, start=1):\n",
    "        print(f'Parágrafo {i}: {p.get_text()}')\n",
    "else:\n",
    "    print(f'Falha ao acessar a página. Status code: {response.status_code}')\n"
   ]
  }
 ],
 "metadata": {
  "kernelspec": {
   "display_name": "Python 3 (ipykernel)",
   "language": "python",
   "name": "python3"
  },
  "language_info": {
   "codemirror_mode": {
    "name": "ipython",
    "version": 3
   },
   "file_extension": ".py",
   "mimetype": "text/x-python",
   "name": "python",
   "nbconvert_exporter": "python",
   "pygments_lexer": "ipython3",
   "version": "3.11.5"
  }
 },
 "nbformat": 4,
 "nbformat_minor": 5
}
